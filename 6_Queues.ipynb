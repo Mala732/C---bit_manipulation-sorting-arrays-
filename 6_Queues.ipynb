{
  "nbformat": 4,
  "nbformat_minor": 0,
  "metadata": {
    "colab": {
      "provenance": [],
      "authorship_tag": "ABX9TyNZsKqC9ScuMQPVzOTKuM9f",
      "include_colab_link": true
    },
    "kernelspec": {
      "name": "python3",
      "display_name": "Python 3"
    },
    "language_info": {
      "name": "python"
    }
  },
  "cells": [
    {
      "cell_type": "markdown",
      "metadata": {
        "id": "view-in-github",
        "colab_type": "text"
      },
      "source": [
        "<a href=\"https://colab.research.google.com/github/Mala732/C---bit_manipulation-sorting-arrays-/blob/main/6_Queues.ipynb\" target=\"_parent\"><img src=\"https://colab.research.google.com/assets/colab-badge.svg\" alt=\"Open In Colab\"/></a>"
      ]
    },
    {
      "cell_type": "code",
      "execution_count": 1,
      "metadata": {
        "colab": {
          "base_uri": "https://localhost:8080/"
        },
        "id": "ZaMi9fTIZr1z",
        "outputId": "64a18247-fa27-4902-cee4-13b339afc3c5"
      },
      "outputs": [
        {
          "output_type": "stream",
          "name": "stdout",
          "text": [
            "deque([5, 1, 2, 3, 4])\n",
            "deque([1, 2, 3, 4])\n",
            "deque([1, 2, 3])\n"
          ]
        }
      ],
      "source": [
        "from collections import deque\n",
        "\n",
        "s = []\n",
        "dq = deque()\n",
        "\n",
        "#append #appendleft\n",
        "\n",
        "\n",
        "dq.append(1)\n",
        "dq.append(2)\n",
        "dq.append(3)\n",
        "dq.append(4)\n",
        "dq.appendleft(5)\n",
        "print(dq)\n",
        "\n",
        "\n",
        "#pop\n",
        "\n",
        "dq.popleft()\n",
        "print(dq)\n",
        "\n",
        "\n",
        "dq.pop()\n",
        "print(dq)\n",
        "\n",
        "\n",
        "\n"
      ]
    },
    {
      "cell_type": "code",
      "source": [
        "#reverse till the k-th element in a que\n",
        "\n",
        "from collections import deque\n",
        "\n",
        "dq = deque([1,2,3,4,5])\n",
        "print(dq)\n",
        "k = 3\n",
        "\n",
        "st = []\n",
        "\n",
        "for i in range(k):\n",
        "    st.append(dq.popleft())\n",
        "print(\"stack =\",st)\n",
        "\n",
        "\n",
        "while len(st)!=0:\n",
        "    dq.append(st.pop())\n",
        "\n",
        "for i in range(len(dq)-k):\n",
        "    dq.append(dq.popleft())\n",
        "\n",
        "\n",
        "print(dq)\n",
        "\n",
        "\n",
        "  #%%\n",
        "\n",
        "#reverse till the k-th element in a que\n",
        "\n",
        "from collections import deque\n",
        "\n",
        "dq = deque([1,2,3,4,5])\n",
        "k = 3\n",
        "\n",
        "st = deque()\n",
        "\n",
        "for i in range(k):\n",
        "    st.append(dq.popleft())\n",
        "print(st)\n",
        "\n",
        "for i in range(k):\n",
        "    dq.appendleft(st.popleft())\n",
        "\n",
        "print(dq)\n",
        "\n",
        "\n",
        ""
      ],
      "metadata": {
        "colab": {
          "base_uri": "https://localhost:8080/"
        },
        "id": "Bau9IfN4Z6g1",
        "outputId": "87be7d16-6e7e-42bd-f43a-41fff0967b0d"
      },
      "execution_count": 2,
      "outputs": [
        {
          "output_type": "stream",
          "name": "stdout",
          "text": [
            "deque([1, 2, 3, 4, 5])\n",
            "stack = [1, 2, 3]\n",
            "deque([3, 2, 1, 4, 5])\n",
            "deque([1, 2, 3])\n",
            "deque([3, 2, 1, 4, 5])\n"
          ]
        }
      ]
    }
  ]
}